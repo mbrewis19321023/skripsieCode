{
 "cells": [
  {
   "cell_type": "code",
   "execution_count": null,
   "metadata": {},
   "outputs": [],
   "source": [
    "# begin importing of standard modules\n",
    "import re\n",
    "import random\n",
    "import os\n",
    "import tkinter as tk\n",
    "from tkinter import messagebox\n",
    "import pandas as pd\n",
    "import pprint as pp\n",
    "import sys\n",
    "# end importing of standard modules\n",
    "\n",
    "# begin setting of home path variable and adding data directory to path import list\n",
    "if 'Step_1.ipynb' or 'Step_1.py' or 'Step_1.exe' in os.listdir():\n",
    "    home = os.getcwd()     \n",
    "sys.path.append(os.path.join(home, 'data')) #This will add the data folder to the path variable so modules can be imported \n",
    "# end setting of home path variable and adding data directory to path import list\n",
    "\n",
    "# begin creation Regular Expression that will check that a folder has been sanitized\n",
    "validHash = re.compile(r'#\\d{0,3}')\n",
    "# end creation Regular Expression that will check that a folder has been sanitized\n",
    "\n",
    "# begin import of created modules\n",
    "try:   \n",
    "    import ds\n",
    "    import mypath\n",
    "except ModuleNotFoundError:\n",
    "   pass\n",
    "# begin import of created modules\n",
    "\n",
    "# begin importing and creation of a data frame\n",
    "os.chdir(mypath.data)\n",
    "df = pd.read_csv('data.csv')\n",
    "# end importing and creation of a data frame\n",
    "\n",
    "pd.set_option('max_colwidth', 200)\n",
    "df"
   ]
  }
 ],
 "metadata": {
  "kernelspec": {
   "display_name": "Python 3",
   "language": "python",
   "name": "python3"
  },
  "language_info": {
   "codemirror_mode": {
    "name": "ipython",
    "version": 3
   },
   "file_extension": ".py",
   "mimetype": "text/x-python",
   "name": "python",
   "nbconvert_exporter": "python",
   "pygments_lexer": "ipython3",
   "version": "3.8.3"
  },
  "latex_envs": {
   "LaTeX_envs_menu_present": true,
   "autoclose": true,
   "autocomplete": true,
   "bibliofile": "biblio.bib",
   "cite_by": "apalike",
   "current_citInitial": 1,
   "eqLabelWithNumbers": true,
   "eqNumInitial": 1,
   "hotkeys": {
    "equation": "Ctrl-E",
    "itemize": "Ctrl-I"
   },
   "labels_anchors": false,
   "latex_user_defs": false,
   "report_style_numbering": false,
   "user_envs_cfg": false
  }
 },
 "nbformat": 4,
 "nbformat_minor": 4
}
