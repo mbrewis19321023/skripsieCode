{
 "cells": [
  {
   "cell_type": "code",
   "execution_count": null,
   "metadata": {},
   "outputs": [
    {
     "name": "stdout",
     "output_type": "stream",
     "text": [
      "trace1g\n"
     ]
    }
   ],
   "source": [
    "\n",
    "flagForName = 0\n",
    "\n",
    "\n",
    "import re\n",
    "import random\n",
    "import os\n",
    "import tkinter as tk\n",
    "from tkinter import messagebox\n",
    "import pandas as pd\n",
    "import pprint as pp\n",
    "import sys\n",
    "\n",
    "# begin setting of home path variable and adding data directory to path import list\n",
    "if 'sani.ipynb' or 'sani.py' in os.listdir():\n",
    "    home = os.getcwd()     \n",
    "sys.path.append(os.path.join(home, 'data')) #This will add the data folder to the path variable so modules can be imported \n",
    "# end setting of home path variable and adding data directory to path import list\n",
    "\n",
    "\n",
    "\n",
    "# begin importing of path module\n",
    "try:\n",
    "    os.chdir('data')\n",
    "#     yes = input('#3 \\n') #This was used to debug code\n",
    "    import path\n",
    "except FileNotFoundError:\n",
    "#     yes = input('#4 \\n') #This was used to debug code\n",
    "    print('The data directory does not exist yet')\n",
    "except ModuleNotFoundError:\n",
    "#     yes = input('#5 \\n') #This was used to debug code\n",
    "    print('The module path.py does not exist')\n",
    "# end importing of path module\n",
    "\n",
    "\n",
    "\n",
    "# begin creation of path module nad data directory\n",
    "try:\n",
    "    os.chdir(home)\n",
    "    os.mkdir('data')\n",
    "    os.chdir('data')\n",
    "    fileObj = open('path.py', 'w')\n",
    "    fileObj.write('home = ' + pp.pformat(home) + '\\n')\n",
    "    fileObj.write('repos = ' + pp.pformat(os.path.join(home, 'stdRepos')) + '\\n')\n",
    "    fileObj.write('data = ' + pp.pformat(os.path.join(home, 'data')) + '\\n')\n",
    "    fileObj.close()\n",
    "    import path\n",
    "except FileExistsError:\n",
    "    print('The data dir already exists and cannot be made')\n",
    "# end creation of path module nad data directory\n",
    "\n",
    "\n",
    "\n",
    "# begin switch path to home\n",
    "os.chdir(path.home)\n",
    "# end switch path to home\n",
    "\n",
    "\n",
    "\n",
    "# begin regex initilization\n",
    "stdNumRegex = re.compile(r'_(\\d{8}$)')\n",
    "replaceList = re.compile(r\"(\\[')(\\d{8})('\\])\")\n",
    "rg = re.compile(r'\\d{8}')\n",
    "# end regex initilization\n",
    "\n",
    "\n",
    "\n",
    "# begin of defunt code\n",
    "# def windowPop (title, message, typeofWindow):\n",
    "#     root = tk.Tk()\n",
    "#     root.withdraw()\n",
    "#     if typeofWindow == 'ask':\n",
    "#         return messagebox.askyesnocancel(title, message)\n",
    "#     elif typeofWindow == 'say':\n",
    "#         messagebox.showinfo(title, message)\n",
    "# end of defunct code\n",
    "\n"
   ]
  },
  {
   "cell_type": "code",
   "execution_count": null,
   "metadata": {},
   "outputs": [],
   "source": [
    "# begin creation of stdRepos directory\n",
    "if  'stdRepos' not in os.listdir():\n",
    "    ans = input('''There is no directory named stdRepos! For the sanitation process to work \n",
    "the stdRepos folder must be in the same directory as the program. \n",
    "Would you like to create this directory?\n",
    "    \n",
    "[y\\\\n]\n",
    "\n",
    "''')\n",
    "    \n",
    "    if ans == 'y':\n",
    "        os.mkdir('stdRepos')\n",
    "        input('''\n",
    "The stdRepos directory has been created! \n",
    "Please unzip all student repositories in the stdRepos directory!\n",
    "\n",
    "Type any key to exit...\n",
    "\n",
    "''')\n",
    "        sys.exit()\n",
    "    elif ans == 'n':\n",
    "        sys.exit()\n",
    "# end creation of stdRepos directory\n",
    "\n",
    "# begin defuct code\n",
    "# # Goes through all the folders in the root directory and flags the existence of the needed folder\n",
    "# if 'sani.ipynb' in (os.listdir()):\n",
    "#     for filename in os.listdir():\n",
    "#         if filename == ('stdRepos'):\n",
    "#             flagForName = 1\n",
    "#     ################################################################################################################################################################# #################################################################################################################################################################\n",
    "\n",
    "#     # CODE MARK 1 # If the folder does not exist gicve the user the option to make the folder\n",
    "#     if flagForName == 0:\n",
    "#         answer = windowPop (\"Warning\", \"There is no directory named 'stdRepos'! For the sanitation process to work the stdRepos folder must be in the same directory as the program. Would you like to create this directory?\", 'ask')\n",
    "#         if answer == True:\n",
    "#             os.mkdir('stdRepos')\n",
    "#             windowPop(\"Note\", \"The folder 'stdRepos' has been created! Paste all unzipped student repositories to begin sanitation process and run this program again\", 'say')\n",
    "#             sys.exit()\n",
    "#         else:\n",
    "#             pass\n",
    "#     #################################################################################################################################################################\n",
    "\n",
    "\n",
    "# if flagForName == True:\n",
    "#     try:\n",
    "#         os.chdir('stdRepos')\n",
    "#     except FileNotFoundError:\n",
    "#         windowPop(\"Note\", 'Make sure that the program shares a parent directory with stdRepos' , 'say')\n",
    "# end defuct code"
   ]
  },
  {
   "cell_type": "code",
   "execution_count": null,
   "metadata": {},
   "outputs": [],
   "source": [
    "# os.chdir(path.repos)\n",
    "# newList = list(filter(rg.findall, os.listdir()))\n",
    "# os.chdir(path.home)\n",
    "# os.getcwd()"
   ]
  },
  {
   "cell_type": "code",
   "execution_count": null,
   "metadata": {},
   "outputs": [],
   "source": [
    "# newList"
   ]
  },
  {
   "cell_type": "code",
   "execution_count": null,
   "metadata": {
    "scrolled": true
   },
   "outputs": [],
   "source": [
    "# try:\n",
    "#     yes = input('#trance3.1 \\n') This was used to debug code\n",
    "#     os.chdir(path.data)\n",
    "#     import ds\n",
    "#     dictStd = ds.dictStd\n",
    "# except ModuleNotFoundError:\n",
    "#     print('import ds did not work')\n",
    "#      yes = input('#trance3.2 \\n') This was used to debug code\n",
    "# except FileNotFoundError:\n",
    "#     print('data directory does not exist yet')\n",
    "#      yes = input('#trance3.3 \\n') This was used to debug code"
   ]
  },
  {
   "cell_type": "code",
   "execution_count": null,
   "metadata": {
    "scrolled": true
   },
   "outputs": [],
   "source": [
    "# os.listdir()"
   ]
  },
  {
   "cell_type": "code",
   "execution_count": null,
   "metadata": {},
   "outputs": [],
   "source": [
    "# os.chdir(path.repos)\n",
    "# if newList:\n",
    "#     dictStd = {}\n",
    "#     listOfIndexes = []\n",
    "#     j = 0\n",
    "#     for i in os.listdir():\n",
    "#         listOfIndexes.append(j)\n",
    "#         j += 1\n",
    "\n",
    "\n",
    "#     random.shuffle(listOfIndexes)\n",
    "#     j = 0\n",
    "#     for i in os.listdir():\n",
    "#         dictStd.setdefault(replaceList.sub(r'\\2', str(stdNumRegex.findall(i))), '#' + str(listOfIndexes[j]))\n",
    "#         j += 1\n",
    "    \n",
    "#     os.chdir(path.data)\n",
    "#     fileObj = open('ds.py', 'w')\n",
    "#     fileObj.write('dictStd = ' + pp.pformat(dictStd) + '\\n')\n",
    "#     fileObj.close()\n",
    "#     os.chdir(path.home)\n",
    "\n",
    "# try:\n",
    "#     df = pd.DataFrame(dictStd.items())\n",
    "#     df.rename(columns={0: \"std\", 1: \"hsh\"}, inplace = True)\n",
    "# except NameError:\n",
    "#     pass"
   ]
  },
  {
   "cell_type": "code",
   "execution_count": null,
   "metadata": {},
   "outputs": [],
   "source": [
    "# os.getcwd()"
   ]
  },
  {
   "cell_type": "code",
   "execution_count": null,
   "metadata": {},
   "outputs": [],
   "source": [
    "# os.chdir(path.repos)\n",
    "# for x, i in enumerate (os.listdir()):\n",
    "#     try:\n",
    "#         os.rename(i, df.iloc[x][1])\n",
    "#     except FileExistsError:\n",
    "#         print(\"Already renamed\")\n",
    "#     except NameError:\n",
    "#         print(\"The Data Frame has not been initilazed\")"
   ]
  },
  {
   "cell_type": "code",
   "execution_count": null,
   "metadata": {},
   "outputs": [],
   "source": [
    "# df"
   ]
  },
  {
   "cell_type": "code",
   "execution_count": null,
   "metadata": {},
   "outputs": [],
   "source": [
    "# df['rightFormat'] = False\n",
    "\n",
    "# for i , filename in enumerate (os.listdir()):\n",
    "#     os.chdir(path.repos) #goes back to stdRepos \n",
    "#     os.listdir(os.path.join(path.repos , '#' + str(i))) #This shows the content of each #number\n",
    "#     if os.listdir(os.path.join(path.repos , '#' + str(i))).count('Core' and 'Debug' and 'Drivers') == 1:\n",
    "#         df.loc[df['hsh'] == '#' + str(i), ['rightFormat']] = True\n",
    "\n",
    "# # for i , filename in enumerate (os.listdir()):\n",
    "# #     os.chdir(path1) #goes back to stdRepos \n",
    "# #     os.listdir(os.path.join(path.repos , '#' + str(i))) #This shows the content of each #number\n",
    "# #     if os.listdir(os.path.join(path.repos , '#' + str(i))).count('Core' and 'Debug' and 'Drivers') == 1:\n",
    "# #         df.loc[df['hsh'] == '#' + str(i), ['rightFormat']] = True\n",
    "\n",
    "# os.chdir(path.data)\n",
    "# df.to_csv('rigthFormat.csv')"
   ]
  }
 ],
 "metadata": {
  "kernelspec": {
   "display_name": "Python 3",
   "language": "python",
   "name": "python3"
  },
  "language_info": {
   "codemirror_mode": {
    "name": "ipython",
    "version": 3
   },
   "file_extension": ".py",
   "mimetype": "text/x-python",
   "name": "python",
   "nbconvert_exporter": "python",
   "pygments_lexer": "ipython3",
   "version": "3.8.3"
  },
  "latex_envs": {
   "LaTeX_envs_menu_present": true,
   "autoclose": true,
   "autocomplete": true,
   "bibliofile": "biblio.bib",
   "cite_by": "apalike",
   "current_citInitial": 1,
   "eqLabelWithNumbers": true,
   "eqNumInitial": 1,
   "hotkeys": {
    "equation": "Ctrl-E",
    "itemize": "Ctrl-I"
   },
   "labels_anchors": false,
   "latex_user_defs": false,
   "report_style_numbering": false,
   "user_envs_cfg": false
  }
 },
 "nbformat": 4,
 "nbformat_minor": 4
}
