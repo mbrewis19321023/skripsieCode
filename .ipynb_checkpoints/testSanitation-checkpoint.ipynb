{
 "cells": [
  {
   "cell_type": "markdown",
   "metadata": {},
   "source": [
    "\\section{This is a test run}"
   ]
  },
  {
   "cell_type": "markdown",
   "metadata": {},
   "source": [
    "#### Notes on what needs to be changed before .exe\n",
    "\n",
    "* Find any instance of \"testSanitation.ipynb\" in the program and make sure that it is replaced by the eventual name of the exe.\n",
    "* Check all directories to make sure they will be compatible with any pc. \n",
    "* Make sure this can run on a Linux Machine"
   ]
  },
  {
   "cell_type": "code",
   "execution_count": 1,
   "metadata": {},
   "outputs": [],
   "source": [
    "flagForName = 0"
   ]
  },
  {
   "cell_type": "code",
   "execution_count": 2,
   "metadata": {},
   "outputs": [],
   "source": [
    "\n",
    "import re\n",
    "import random\n",
    "import os\n",
    "import tkinter as tk\n",
    "from tkinter import messagebox\n",
    "import pandas as pd\n",
    "import pprint as pp"
   ]
  },
  {
   "cell_type": "code",
   "execution_count": 3,
   "metadata": {},
   "outputs": [],
   "source": [
    "stdNumRegex = re.compile(r'_(\\d{8}$)')\n",
    "replaceList = re.compile(r\"(\\[')(\\d{8})('\\])\")"
   ]
  },
  {
   "cell_type": "code",
   "execution_count": 4,
   "metadata": {},
   "outputs": [],
   "source": [
    "def windowPop (title, message, typeofWindow):\n",
    "    root = tk.Tk()\n",
    "    root.withdraw()\n",
    "    if typeofWindow == 'ask':\n",
    "        return messagebox.askyesnocancel(title, message)\n",
    "    elif typeofWindow == 'say':\n",
    "        messagebox.showinfo(title, message)"
   ]
  },
  {
   "cell_type": "code",
   "execution_count": 5,
   "metadata": {},
   "outputs": [],
   "source": [
    "# Goes through all the folders in the root directory and flags the existence of the needed folder\n",
    "if 'testSanitation.ipynb' in (os.listdir()):\n",
    "    for filename in os.listdir():\n",
    "        if filename == ('unSani'):\n",
    "            flagForName = 1\n",
    "    ################################################################################################################################################################# #################################################################################################################################################################\n",
    "\n",
    "    # CODE MARK 1 # If the folder does not exist gicve the user the option to make the folder\n",
    "    if flagForName == 0:\n",
    "        answer = windowPop (\"Warning\", \"There is no directory named 'unSani'! For the sanitation process to work the unSani folder must be in the same directory as the program. Would you like to create this directory?\", 'ask')\n",
    "        if answer == True:\n",
    "            os.mkdir('unSani')\n",
    "            windowPop(\"Note\", \"The folder 'unSani' has been created! Paste all unzipped student repositories to begin sanitation process and run this program again\", 'say')\n",
    "        else:\n",
    "            pass\n",
    "    #################################################################################################################################################################\n"
   ]
  },
  {
   "cell_type": "code",
   "execution_count": 6,
   "metadata": {
    "scrolled": true
   },
   "outputs": [],
   "source": [
    "if flagForName == True:\n",
    "    try:\n",
    "        os.chdir('unSani')\n",
    "    except FileNotFoundError:\n",
    "        windowPop(\"Note\", 'Make sure that the program shares a parent directory with unSani' , 'say')"
   ]
  },
  {
   "cell_type": "code",
   "execution_count": 7,
   "metadata": {},
   "outputs": [
    {
     "data": {
      "text/plain": [
       "[]"
      ]
     },
     "execution_count": 7,
     "metadata": {},
     "output_type": "execute_result"
    }
   ],
   "source": [
    "rg = re.compile(r'\\d{8}')\n",
    "listdir = os.listdir()\n",
    "newList = list(filter(rg.findall, listdir))\n",
    "newList"
   ]
  },
  {
   "cell_type": "code",
   "execution_count": 8,
   "metadata": {},
   "outputs": [
    {
     "data": {
      "text/plain": [
       "'C:\\\\Users\\\\1995m\\\\Desktop\\\\testSanitation\\\\unSani'"
      ]
     },
     "execution_count": 8,
     "metadata": {},
     "output_type": "execute_result"
    }
   ],
   "source": [
    "\n",
    "os.getcwd()"
   ]
  },
  {
   "cell_type": "code",
   "execution_count": 9,
   "metadata": {},
   "outputs": [],
   "source": [
    "os.chdir('..')\n",
    "try:\n",
    "    import ds\n",
    "    dictStd = ds.dictStd\n",
    "except ModuleNotFoundError:\n",
    "    print('ModuleNotFoundError')\n",
    "os.chdir('unSani')"
   ]
  },
  {
   "cell_type": "code",
   "execution_count": 10,
   "metadata": {},
   "outputs": [
    {
     "data": {
      "text/plain": [
       "'C:\\\\Users\\\\1995m\\\\Desktop\\\\testSanitation\\\\unSani'"
      ]
     },
     "execution_count": 10,
     "metadata": {},
     "output_type": "execute_result"
    }
   ],
   "source": [
    "os.getcwd()"
   ]
  },
  {
   "cell_type": "code",
   "execution_count": 11,
   "metadata": {},
   "outputs": [],
   "source": [
    "if newList:\n",
    "    dictStd = {}\n",
    "    listOfIndexes = []\n",
    "    j = 0\n",
    "    for i in os.listdir():\n",
    "        listOfIndexes.append(j)\n",
    "        j += 1\n",
    "\n",
    "\n",
    "    random.shuffle(listOfIndexes)\n",
    "    j = 0\n",
    "    for i in os.listdir():\n",
    "        dictStd.setdefault(replaceList.sub(r'\\2', str(stdNumRegex.findall(i))), '#' + str(listOfIndexes[j]))\n",
    "        j += 1\n",
    "    \n",
    "    os.chdir('..')\n",
    "    fileObj = open('ds.py', 'w')\n",
    "    fileObj.write('dictStd = ' + pp.pformat(dictStd) + '\\n')\n",
    "    fileObj.close()\n",
    "    os.chdir('unSani')"
   ]
  },
  {
   "cell_type": "code",
   "execution_count": 12,
   "metadata": {},
   "outputs": [],
   "source": [
    "try:\n",
    "    df = pd.DataFrame(dictStd.items())\n",
    "    df.rename(columns={0: \"std\", 1: \"hsh\"}, inplace = True)\n",
    "except NameError:\n",
    "    pass\n"
   ]
  },
  {
   "cell_type": "code",
   "execution_count": 13,
   "metadata": {},
   "outputs": [
    {
     "name": "stdout",
     "output_type": "stream",
     "text": [
      "Already renamed\n",
      "Already renamed\n",
      "Already renamed\n",
      "Already renamed\n",
      "Already renamed\n",
      "Already renamed\n",
      "Already renamed\n",
      "Already renamed\n"
     ]
    }
   ],
   "source": [
    "if 'testSanitation.ipynb' in os.listdir('..'):\n",
    "    for x, i in enumerate (os.listdir()):\n",
    "        try:\n",
    "            os.rename(i, df.iloc[x][1])\n",
    "        except FileExistsError:\n",
    "            print(\"Already renamed\")\n",
    "        except NameError:\n",
    "            print(\"The Data Frame has not been initilazed\")"
   ]
  },
  {
   "cell_type": "code",
   "execution_count": 16,
   "metadata": {},
   "outputs": [
    {
     "data": {
      "text/html": [
       "<div>\n",
       "<style scoped>\n",
       "    .dataframe tbody tr th:only-of-type {\n",
       "        vertical-align: middle;\n",
       "    }\n",
       "\n",
       "    .dataframe tbody tr th {\n",
       "        vertical-align: top;\n",
       "    }\n",
       "\n",
       "    .dataframe thead th {\n",
       "        text-align: right;\n",
       "    }\n",
       "</style>\n",
       "<table border=\"1\" class=\"dataframe\">\n",
       "  <thead>\n",
       "    <tr style=\"text-align: right;\">\n",
       "      <th></th>\n",
       "      <th>std</th>\n",
       "      <th>hsh</th>\n",
       "    </tr>\n",
       "  </thead>\n",
       "  <tbody>\n",
       "    <tr>\n",
       "      <th>0</th>\n",
       "      <td>20416318</td>\n",
       "      <td>#4</td>\n",
       "    </tr>\n",
       "    <tr>\n",
       "      <th>1</th>\n",
       "      <td>21957029</td>\n",
       "      <td>#2</td>\n",
       "    </tr>\n",
       "    <tr>\n",
       "      <th>2</th>\n",
       "      <td>22046364</td>\n",
       "      <td>#0</td>\n",
       "    </tr>\n",
       "    <tr>\n",
       "      <th>3</th>\n",
       "      <td>22074376</td>\n",
       "      <td>#1</td>\n",
       "    </tr>\n",
       "    <tr>\n",
       "      <th>4</th>\n",
       "      <td>22127011</td>\n",
       "      <td>#7</td>\n",
       "    </tr>\n",
       "    <tr>\n",
       "      <th>5</th>\n",
       "      <td>22218521</td>\n",
       "      <td>#3</td>\n",
       "    </tr>\n",
       "    <tr>\n",
       "      <th>6</th>\n",
       "      <td>22252975</td>\n",
       "      <td>#5</td>\n",
       "    </tr>\n",
       "    <tr>\n",
       "      <th>7</th>\n",
       "      <td>[]</td>\n",
       "      <td>#6</td>\n",
       "    </tr>\n",
       "  </tbody>\n",
       "</table>\n",
       "</div>"
      ],
      "text/plain": [
       "        std hsh\n",
       "0  20416318  #4\n",
       "1  21957029  #2\n",
       "2  22046364  #0\n",
       "3  22074376  #1\n",
       "4  22127011  #7\n",
       "5  22218521  #3\n",
       "6  22252975  #5\n",
       "7        []  #6"
      ]
     },
     "execution_count": 16,
     "metadata": {},
     "output_type": "execute_result"
    }
   ],
   "source": [
    "df"
   ]
  },
  {
   "cell_type": "code",
   "execution_count": null,
   "metadata": {},
   "outputs": [],
   "source": []
  }
 ],
 "metadata": {
  "kernelspec": {
   "display_name": "Python 3",
   "language": "python",
   "name": "python3"
  },
  "language_info": {
   "codemirror_mode": {
    "name": "ipython",
    "version": 3
   },
   "file_extension": ".py",
   "mimetype": "text/x-python",
   "name": "python",
   "nbconvert_exporter": "python",
   "pygments_lexer": "ipython3",
   "version": "3.8.3"
  },
  "latex_envs": {
   "LaTeX_envs_menu_present": true,
   "autoclose": true,
   "autocomplete": true,
   "bibliofile": "biblio.bib",
   "cite_by": "apalike",
   "current_citInitial": 1,
   "eqLabelWithNumbers": true,
   "eqNumInitial": 1,
   "hotkeys": {
    "equation": "Ctrl-E",
    "itemize": "Ctrl-I"
   },
   "labels_anchors": false,
   "latex_user_defs": false,
   "report_style_numbering": false,
   "user_envs_cfg": false
  }
 },
 "nbformat": 4,
 "nbformat_minor": 4
}
